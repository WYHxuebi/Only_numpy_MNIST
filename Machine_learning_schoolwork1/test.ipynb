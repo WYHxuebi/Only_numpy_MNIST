{
 "cells": [
  {
   "cell_type": "code",
   "execution_count": 1,
   "id": "eaf2e27c-c401-41c7-ab07-e617da5d585d",
   "metadata": {},
   "outputs": [
    {
     "name": "stdout",
     "output_type": "stream",
     "text": [
      "importing Jupyter notebook from function.ipynb\n"
     ]
    }
   ],
   "source": [
    "import Ipynb_importer\n",
    "import numpy as np\n",
    "import gzip\n",
    "import function"
   ]
  },
  {
   "cell_type": "code",
   "execution_count": 2,
   "id": "6fb78d93-ddaa-424a-9009-d74a9b7a7b84",
   "metadata": {},
   "outputs": [],
   "source": [
    "# 参数定义\n",
    "batch_size = 50\n",
    "shuffle = True"
   ]
  },
  {
   "cell_type": "code",
   "execution_count": 3,
   "id": "e345bf41-148b-4ac5-8ad9-73dd00780b0b",
   "metadata": {},
   "outputs": [],
   "source": [
    "# 测试图像、测试标签路径\n",
    "test_images_filename = './data/t10k-images-idx3-ubyte.gz'\n",
    "test_labels_filename = './data/t10k-labels-idx1-ubyte.gz'"
   ]
  },
  {
   "cell_type": "code",
   "execution_count": 4,
   "id": "4e2b7bcf-3256-418d-bda6-97e369d1b09b",
   "metadata": {},
   "outputs": [],
   "source": [
    "# 加载测试图像\n",
    "test_images_loader = function.load_mnist_images(test_images_filename)\n",
    "\n",
    "# print(np.shape(test_images_loader))\n",
    "# print(type(test_images_loader))"
   ]
  },
  {
   "cell_type": "code",
   "execution_count": 5,
   "id": "ceab4506-b53b-40fa-9991-76da331b348a",
   "metadata": {},
   "outputs": [],
   "source": [
    "# 加载测试标签\n",
    "test_labels_loader = function.load_mnist_labels(test_labels_filename)\n",
    "\n",
    "# print(np.shape(test_labels_loader))\n",
    "# print(type(test_labels_loader))"
   ]
  },
  {
   "cell_type": "code",
   "execution_count": 6,
   "id": "dd37ca02-7550-4994-8df5-12a91093fb8b",
   "metadata": {},
   "outputs": [],
   "source": [
    "# 获得batch数据以及batch数量\n",
    "test_images_batches, test_labels_batches = function.get_mini_batches(test_images_loader, test_labels_loader, batch_size, shuffle)\n",
    "num_batch = np.shape(test_images_batches)[0]\n",
    "\n",
    "# print(np.shape(train_images_batches))\n",
    "# print(np.shape(train_labels_batches))\n",
    "# print(type(train_images_batches))\n",
    "# print(type(train_labels_batches))"
   ]
  },
  {
   "cell_type": "code",
   "execution_count": 13,
   "id": "2da102db-8213-4506-945e-9872972ffdcf",
   "metadata": {},
   "outputs": [],
   "source": [
    "# 加载权重以及偏置\n",
    "weights_bias_loader = np.load('./saved_weights_biases/epoch_49_weights_bias.npz')\n",
    "layer1_weights = weights_bias_loader['layer1_weights']\n",
    "layer1_bias = weights_bias_loader['layer1_bias']\n",
    "layer2_weights = weights_bias_loader['layer2_weights']\n",
    "layer2_bias = weights_bias_loader['layer2_bias']\n",
    "layer3_weights = weights_bias_loader['layer3_weights']\n",
    "layer3_bias = weights_bias_loader['layer3_bias']\n",
    "layer4_weights = weights_bias_loader['layer4_weights']\n",
    "layer4_bias = weights_bias_loader['layer4_bias']"
   ]
  },
  {
   "cell_type": "code",
   "execution_count": 14,
   "id": "28806045-9e60-4ae8-8f38-212d3677c6e3",
   "metadata": {},
   "outputs": [],
   "source": [
    "## 测试\n",
    "# 定义预测正确的数量\n",
    "correct = 0\n",
    "\n",
    "for batch in range(num_batch):\n",
    "\n",
    "    # 获得 one batch的训练图像和标签\n",
    "    test_images = test_images_batches[batch]\n",
    "    test_labels = test_labels_batches[batch]\n",
    "\n",
    "    # 将test_images展平\n",
    "    test_images = np.reshape(test_images, (batch_size, -1))\n",
    "\n",
    "    # 将test_labels转换成独热码形式\n",
    "    test_labels = function.one_hot(test_labels, batch_size)\n",
    "\n",
    "    # 前向传播\n",
    "    layer1_z = np.dot(test_images, layer1_weights) + layer1_bias\n",
    "    layer1_output = function.relu(layer1_z)\n",
    "    layer2_z = np.dot(layer1_output, layer2_weights) + layer2_bias\n",
    "    layer2_output = function.relu(layer2_z)\n",
    "    layer3_z = np.dot(layer2_output, layer3_weights) + layer3_bias\n",
    "    layer3_output = function.relu(layer3_z)\n",
    "    layer4_z = np.dot(layer3_output, layer4_weights) + layer4_bias\n",
    "    layer4_output = function.softmax(layer4_z)\n",
    "\n",
    "    # 计算预测正确个数\n",
    "    predicte_labels = np.argmax(layer4_output, axis=1, keepdims=True)\n",
    "    correct = correct + function.correct_num(predicte_labels, test_labels, batch_size)"
   ]
  },
  {
   "cell_type": "code",
   "execution_count": 15,
   "id": "d4da00b8-0191-4715-91cc-8f2231bce8d8",
   "metadata": {},
   "outputs": [],
   "source": [
    "# 计算正确率\n",
    "Accuracy = correct / (num_batch * batch_size)"
   ]
  },
  {
   "cell_type": "code",
   "execution_count": 16,
   "id": "9d36e36b-19a3-4f19-9dd5-7e43b24a058b",
   "metadata": {},
   "outputs": [
    {
     "name": "stdout",
     "output_type": "stream",
     "text": [
      "Accuracy: 0.9758\n"
     ]
    }
   ],
   "source": [
    "# 打印每个周期的训练损失\n",
    "print(f\"Accuracy: {Accuracy}\")"
   ]
  },
  {
   "cell_type": "code",
   "execution_count": null,
   "id": "8a7db0b8-3527-40de-b003-99ea6bdc2719",
   "metadata": {},
   "outputs": [],
   "source": []
  }
 ],
 "metadata": {
  "kernelspec": {
   "display_name": "Python 3 (ipykernel)",
   "language": "python",
   "name": "python3"
  },
  "language_info": {
   "codemirror_mode": {
    "name": "ipython",
    "version": 3
   },
   "file_extension": ".py",
   "mimetype": "text/x-python",
   "name": "python",
   "nbconvert_exporter": "python",
   "pygments_lexer": "ipython3",
   "version": "3.9.18"
  }
 },
 "nbformat": 4,
 "nbformat_minor": 5
}
