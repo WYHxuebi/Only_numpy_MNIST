{
 "cells": [
  {
   "cell_type": "code",
   "execution_count": 1,
   "id": "96000a3f-bd2b-4b01-95c3-d13c21857fe5",
   "metadata": {},
   "outputs": [],
   "source": [
    "import Ipynb_importer\n",
    "import numpy as np\n",
    "import gzip"
   ]
  },
  {
   "cell_type": "code",
   "execution_count": 2,
   "id": "470a4f80-55fa-41ad-b3c1-1ac81992d20b",
   "metadata": {},
   "outputs": [],
   "source": [
    "def load_mnist_images(filename):\n",
    "    # 用于加载MNIST数据集中.gz文件的图像数据\n",
    "    # 输入：mnist图像文件路径\n",
    "    \n",
    "    with gzip.open(filename, 'rb') as file:\n",
    "        \n",
    "        # 跳过文件前16个字节，包括4个字节幻数,4个字节图像数量,4个字节单个图像的行数,4个字节单个图像的列数\n",
    "        file.read(16)\n",
    "        data = file.read()\n",
    "        \n",
    "    # 将图像数据流转换成numpy格式\n",
    "    images = np.frombuffer(data, dtype=np.uint8)\n",
    "    \n",
    "    # 输出格式为(,28,28)\n",
    "    images = images.reshape(-1, 28, 28)\n",
    "    \n",
    "    return images"
   ]
  },
  {
   "cell_type": "code",
   "execution_count": 3,
   "id": "fe27c1b6-1b55-4a81-9a59-6361d0cad0c8",
   "metadata": {},
   "outputs": [],
   "source": [
    "def load_mnist_labels(filename):\n",
    "    # 用于加载MNIST数据集中.gz文件的标签数据\n",
    "    # 输入：mnist标签文件路径\n",
    "    \n",
    "    with gzip.open(filename, 'rb') as file:\n",
    "        \n",
    "        # 跳过文件前8个字节，包括4个字节幻数,4个字节标签数量\n",
    "        file.read(8)\n",
    "        data = file.read()\n",
    "        \n",
    "    # 将图像数据流转换成numpy格式\n",
    "    labels = np.frombuffer(data, dtype=np.uint8)\n",
    "    \n",
    "    return labels"
   ]
  },
  {
   "cell_type": "code",
   "execution_count": 4,
   "id": "0dfd8f69-7b93-468a-b3ce-13860de454ed",
   "metadata": {},
   "outputs": [],
   "source": [
    "def get_mini_batches(images, labels, batch_size, shuffle=False):\n",
    "    # 用于得到batch_size大小的数据\n",
    "    # images：图像数据，格式(x,28,28)\n",
    "    # labels：标签数据，格式(x,1)\n",
    "    # batch_size：单次批量处理数据大小，必须能够整除x\n",
    "    # shuffle：是否打乱数据\n",
    "    # 输出：格式为(x,batch_size,28,28)\n",
    "\n",
    "    # 构建空序列\n",
    "    images_batch = []\n",
    "    labels_batch = []\n",
    "\n",
    "    # 图片总数量\n",
    "    num_images = len(images)\n",
    "\n",
    "    # 判断是否打乱数据\n",
    "    if shuffle == True:\n",
    "        index = np.random.permutation(num_images)\n",
    "    else:\n",
    "        index = range(num_images)\n",
    "    \n",
    "    # 获得batch_size大小的数据\n",
    "    for i in range(0, num_images, batch_size):\n",
    "        batch_index = index[i:i+batch_size]\n",
    "        images_batch.append(images[batch_index])\n",
    "        labels_batch.append(labels[batch_index])\n",
    "    \n",
    "    # 转换数据类型numpy\n",
    "    images_batch = np.array(images_batch)\n",
    "    labels_batch = np.array(labels_batch)\n",
    "    \n",
    "    return images_batch, labels_batch"
   ]
  },
  {
   "cell_type": "code",
   "execution_count": 5,
   "id": "3d3e9940-32e9-41bc-b192-e7fb4e6b9b14",
   "metadata": {},
   "outputs": [],
   "source": [
    "def one_hot(Input, batch_size):\n",
    "    # 用于得到标签的独热码\n",
    "    # Input：标签数据\n",
    "\n",
    "    # 构建零独热码\n",
    "    one_hot_labels = np.zeros((batch_size, 10))\n",
    "    \n",
    "    for i in range(batch_size):\n",
    "        one_hot_labels[i, Input[i]] = 1\n",
    "\n",
    "    Output = one_hot_labels\n",
    "    \n",
    "    return Output"
   ]
  },
  {
   "cell_type": "code",
   "execution_count": 6,
   "id": "b8b031af-8429-4f7f-bb4e-3175945af5f2",
   "metadata": {},
   "outputs": [],
   "source": [
    "def relu(Input):\n",
    "    Output = np.maximum(Input, 0)  \n",
    "    return Output"
   ]
  },
  {
   "cell_type": "code",
   "execution_count": 7,
   "id": "333df97f-6f14-4fac-8d37-04628c0ed30a",
   "metadata": {},
   "outputs": [],
   "source": [
    "def softmax(Input):\n",
    "    \n",
    "    # 找到每个样本的最大值\n",
    "    max_logits = np.max(Input, axis=1, keepdims=True)\n",
    "\n",
    "    # 计算Input的对应元素的指数值\n",
    "    exp_Input = np.exp(Input - max_logits)\n",
    "    \n",
    "    # 对Input各行求和\n",
    "    exp_sum = np.sum(exp_Input, axis=1, keepdims=True)\n",
    "    \n",
    "    Output = exp_Input / exp_sum\n",
    "    \n",
    "    return Output"
   ]
  },
  {
   "cell_type": "code",
   "execution_count": null,
   "id": "b6d412ee-0f7c-44bc-bd54-07a309f50da8",
   "metadata": {},
   "outputs": [],
   "source": [
    "def correct_num(predict_labels, true_labels, batch_size):\n",
    "    Output = 0\n",
    "\n",
    "    for i in range(batch_size):\n",
    "        if true_labels[i, predict_labels[i]] == 1:\n",
    "            Output = Output + 1\n",
    "\n",
    "    return Output"
   ]
  }
 ],
 "metadata": {
  "kernelspec": {
   "display_name": "Python 3 (ipykernel)",
   "language": "python",
   "name": "python3"
  },
  "language_info": {
   "codemirror_mode": {
    "name": "ipython",
    "version": 3
   },
   "file_extension": ".py",
   "mimetype": "text/x-python",
   "name": "python",
   "nbconvert_exporter": "python",
   "pygments_lexer": "ipython3",
   "version": "3.9.18"
  }
 },
 "nbformat": 4,
 "nbformat_minor": 5
}
